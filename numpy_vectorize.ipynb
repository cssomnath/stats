{
 "cells": [
  {
   "cell_type": "code",
   "execution_count": 1,
   "metadata": {
    "collapsed": true
   },
   "outputs": [],
   "source": [
    "import numpy as np\n",
    "import time"
   ]
  },
  {
   "cell_type": "code",
   "execution_count": 2,
   "metadata": {
    "collapsed": true
   },
   "outputs": [],
   "source": [
    "def vectorize_sub(np_vector1, np_vector2):\n",
    "    start = time.time()\n",
    "    x = np_vector1 - np_vector2\n",
    "    end = time.time()\n",
    "    return end - start"
   ]
  },
  {
   "cell_type": "code",
   "execution_count": 3,
   "metadata": {
    "collapsed": true
   },
   "outputs": [],
   "source": [
    "def inloop_sub(np_vector1, np_vector2):\n",
    "    x = len(np_vector1) * [0]\n",
    "    start = time.time()\n",
    "    for i in xrange(len(np_vector1)):\n",
    "        x[i] = np_vector1[i] - np_vector2[i]\n",
    "    end = time.time()\n",
    "    return end - start"
   ]
  },
  {
   "cell_type": "code",
   "execution_count": 4,
   "metadata": {
    "collapsed": true
   },
   "outputs": [],
   "source": [
    "exp_size = 7"
   ]
  },
  {
   "cell_type": "code",
   "execution_count": 5,
   "metadata": {
    "collapsed": false
   },
   "outputs": [
    {
     "name": "stdout",
     "output_type": "stream",
     "text": [
      "5.96046447754e-06 5.96046447754e-06\n",
      "4.00543212891e-05 2.86102294922e-06\n",
      "0.000519037246704 6.19888305664e-06\n",
      "0.00385880470276 5.50746917725e-05\n",
      "0.0289649963379 0.000139951705933\n",
      "0.279933929443 0.00184297561646\n",
      "2.80755496025 0.0209078788757\n"
     ]
    }
   ],
   "source": [
    "inloop_op = []\n",
    "vector_op = []\n",
    "dims = np.logspace(1, exp_size, num=exp_size)\n",
    "\n",
    "for i in xrange(len(dims)):\n",
    "    n = int(dims[i])\n",
    "    np_vector1 = np.random.rand(n)\n",
    "    np_vector2 = np.random.rand(n)\n",
    "\n",
    "    d1 = inloop_sub(np_vector1, np_vector2)\n",
    "    d2 = vectorize_sub(np_vector1, np_vector2)\n",
    "    \n",
    "    inloop_op.append(d1)\n",
    "    vector_op.append(d2)\n",
    "    \n",
    "    print d1, d2"
   ]
  },
  {
   "cell_type": "code",
   "execution_count": 6,
   "metadata": {
    "collapsed": true
   },
   "outputs": [],
   "source": [
    "import matplotlib.pyplot as plt\n",
    "%matplotlib inline "
   ]
  },
  {
   "cell_type": "code",
   "execution_count": 7,
   "metadata": {
    "collapsed": false
   },
   "outputs": [
    {
     "data": {
      "image/png": "[encoded data removed]",
      "text/plain": [
       "<matplotlib.figure.Figure at 0x10840a450>"
      ]
     },
     "metadata": {},
     "output_type": "display_data"
    }
   ],
   "source": [
    "plt.semilogx(dims, vector_op, 'bs',\n",
    "            dims, inloop_op, 'r--')\n",
    "plt.grid(True)\n",
    "plt.show()"
   ]
  },
  {
   "cell_type": "code",
   "execution_count": null,
   "metadata": {
    "collapsed": true
   },
   "outputs": [],
   "source": []
  }
 ],
 "metadata": {
  "kernelspec": {
   "display_name": "Python 2",
   "language": "python",
   "name": "python2"
  },
  "language_info": {
   "codemirror_mode": {
    "name": "ipython",
    "version": 2
   },
   "file_extension": ".py",
   "mimetype": "text/x-python",
   "name": "python",
   "nbconvert_exporter": "python",
   "pygments_lexer": "ipython2",
   "version": "2.7.11"
  }
 },
 "nbformat": 4,
 "nbformat_minor": 0
}
